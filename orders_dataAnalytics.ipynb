{
 "cells": [
  {
   "cell_type": "code",
   "execution_count": 1,
   "metadata": {},
   "outputs": [
    {
     "name": "stdout",
     "output_type": "stream",
     "text": [
      "Collecting kaggle\n",
      "  Downloading kaggle-1.6.12.tar.gz (79 kB)\n",
      "     ---------------------------------------- 0.0/79.7 kB ? eta -:--:--\n",
      "     ----- ---------------------------------- 10.2/79.7 kB ? eta -:--:--\n",
      "     ----- ---------------------------------- 10.2/79.7 kB ? eta -:--:--\n",
      "     ----- ---------------------------------- 10.2/79.7 kB ? eta -:--:--\n",
      "     ---------- ---------------------------- 20.5/79.7 kB 65.6 kB/s eta 0:00:01\n",
      "     ---------- ---------------------------- 20.5/79.7 kB 65.6 kB/s eta 0:00:01\n",
      "     ---------- ---------------------------- 20.5/79.7 kB 65.6 kB/s eta 0:00:01\n",
      "     ---------- ---------------------------- 20.5/79.7 kB 65.6 kB/s eta 0:00:01\n",
      "     ---------- ---------------------------- 20.5/79.7 kB 65.6 kB/s eta 0:00:01\n",
      "     ---------- ---------------------------- 20.5/79.7 kB 65.6 kB/s eta 0:00:01\n",
      "     ---------- ---------------------------- 20.5/79.7 kB 65.6 kB/s eta 0:00:01\n",
      "     ---------- ---------------------------- 20.5/79.7 kB 65.6 kB/s eta 0:00:01\n",
      "     ---------- ---------------------------- 20.5/79.7 kB 65.6 kB/s eta 0:00:01\n",
      "     ---------- ---------------------------- 20.5/79.7 kB 65.6 kB/s eta 0:00:01\n",
      "     ---------- ---------------------------- 20.5/79.7 kB 65.6 kB/s eta 0:00:01\n",
      "     ---------- ---------------------------- 20.5/79.7 kB 65.6 kB/s eta 0:00:01\n",
      "     ---------- ---------------------------- 20.5/79.7 kB 65.6 kB/s eta 0:00:01\n",
      "     ---------- ---------------------------- 20.5/79.7 kB 65.6 kB/s eta 0:00:01\n",
      "     ---------- ---------------------------- 20.5/79.7 kB 65.6 kB/s eta 0:00:01\n",
      "     ---------- ---------------------------- 20.5/79.7 kB 65.6 kB/s eta 0:00:01\n",
      "     ---------- ---------------------------- 20.5/79.7 kB 65.6 kB/s eta 0:00:01\n",
      "     ---------- ---------------------------- 20.5/79.7 kB 65.6 kB/s eta 0:00:01\n",
      "     ---------- ---------------------------- 20.5/79.7 kB 65.6 kB/s eta 0:00:01\n",
      "     ---------- ---------------------------- 20.5/79.7 kB 65.6 kB/s eta 0:00:01\n",
      "     ---------- ---------------------------- 20.5/79.7 kB 65.6 kB/s eta 0:00:01\n",
      "     ---------- ---------------------------- 20.5/79.7 kB 65.6 kB/s eta 0:00:01\n",
      "     ------------------------- ------------- 51.2/79.7 kB 35.9 kB/s eta 0:00:01\n",
      "     ----------------------------------- --- 71.7/79.7 kB 50.4 kB/s eta 0:00:01\n",
      "     ----------------------------------- --- 71.7/79.7 kB 50.4 kB/s eta 0:00:01\n",
      "     --------------------------------------- 79.7/79.7 kB 54.2 kB/s eta 0:00:00\n",
      "  Installing build dependencies: started\n",
      "  Installing build dependencies: finished with status 'done'\n",
      "  Getting requirements to build wheel: started\n",
      "  Getting requirements to build wheel: finished with status 'done'\n",
      "  Installing backend dependencies: started\n",
      "  Installing backend dependencies: finished with status 'done'\n",
      "  Preparing metadata (pyproject.toml): started\n",
      "  Preparing metadata (pyproject.toml): finished with status 'done'\n",
      "Requirement already satisfied: six>=1.10 in c:\\python310\\lib\\site-packages (from kaggle) (1.16.0)\n",
      "Collecting certifi>=2023.7.22 (from kaggle)\n",
      "  Downloading certifi-2024.2.2-py3-none-any.whl.metadata (2.2 kB)\n",
      "Requirement already satisfied: python-dateutil in c:\\python310\\lib\\site-packages (from kaggle) (2.8.2)\n",
      "Collecting requests (from kaggle)\n",
      "  Downloading requests-2.31.0-py3-none-any.whl.metadata (4.6 kB)\n",
      "Collecting tqdm (from kaggle)\n",
      "  Downloading tqdm-4.66.2-py3-none-any.whl.metadata (57 kB)\n",
      "     ---------------------------------------- 0.0/57.6 kB ? eta -:--:--\n",
      "     ---------------------------------------- 0.0/57.6 kB ? eta -:--:--\n",
      "     ----------------------------------- ---- 51.2/57.6 kB 1.3 MB/s eta 0:00:01\n",
      "     ---------------------------------------- 57.6/57.6 kB 1.0 MB/s eta 0:00:00\n",
      "Collecting python-slugify (from kaggle)\n",
      "  Downloading python_slugify-8.0.4-py2.py3-none-any.whl.metadata (8.5 kB)\n",
      "Collecting urllib3 (from kaggle)\n",
      "  Downloading urllib3-2.2.1-py3-none-any.whl.metadata (6.4 kB)\n",
      "Collecting bleach (from kaggle)\n",
      "  Downloading bleach-6.1.0-py3-none-any.whl.metadata (30 kB)\n",
      "Collecting webencodings (from bleach->kaggle)\n",
      "  Downloading webencodings-0.5.1-py2.py3-none-any.whl.metadata (2.1 kB)\n",
      "Collecting text-unidecode>=1.3 (from python-slugify->kaggle)\n",
      "  Downloading text_unidecode-1.3-py2.py3-none-any.whl.metadata (2.4 kB)\n",
      "Collecting charset-normalizer<4,>=2 (from requests->kaggle)\n",
      "  Downloading charset_normalizer-3.3.2-cp310-cp310-win_amd64.whl.metadata (34 kB)\n",
      "Collecting idna<4,>=2.5 (from requests->kaggle)\n",
      "  Downloading idna-3.7-py3-none-any.whl.metadata (9.9 kB)\n",
      "Requirement already satisfied: colorama in c:\\users\\harish\\appdata\\roaming\\python\\python310\\site-packages (from tqdm->kaggle) (0.4.6)\n",
      "Downloading certifi-2024.2.2-py3-none-any.whl (163 kB)\n",
      "   ---------------------------------------- 0.0/163.8 kB ? eta -:--:--\n",
      "   -------------------- ------------------- 81.9/163.8 kB 4.8 MB/s eta 0:00:01\n",
      "   ------------------------------------- -- 153.6/163.8 kB 2.3 MB/s eta 0:00:01\n",
      "   ------------------------------------- -- 153.6/163.8 kB 2.3 MB/s eta 0:00:01\n",
      "   ---------------------------------------- 163.8/163.8 kB 1.2 MB/s eta 0:00:00\n",
      "Downloading bleach-6.1.0-py3-none-any.whl (162 kB)\n",
      "   ---------------------------------------- 0.0/162.8 kB ? eta -:--:--\n",
      "   ---------------------- ----------------- 92.2/162.8 kB 2.6 MB/s eta 0:00:01\n",
      "   ----------------------------------- ---- 143.4/162.8 kB 1.7 MB/s eta 0:00:01\n",
      "   ---------------------------------------- 162.8/162.8 kB 1.4 MB/s eta 0:00:00\n",
      "Downloading python_slugify-8.0.4-py2.py3-none-any.whl (10 kB)\n",
      "Downloading requests-2.31.0-py3-none-any.whl (62 kB)\n",
      "   ---------------------------------------- 0.0/62.6 kB ? eta -:--:--\n",
      "   ---------------------------------------- 62.6/62.6 kB 1.6 MB/s eta 0:00:00\n",
      "Downloading urllib3-2.2.1-py3-none-any.whl (121 kB)\n",
      "   ---------------------------------------- 0.0/121.1 kB ? eta -:--:--\n",
      "   ------------------------------------- -- 112.6/121.1 kB 2.2 MB/s eta 0:00:01\n",
      "   ---------------------------------------- 121.1/121.1 kB 1.8 MB/s eta 0:00:00\n",
      "Downloading tqdm-4.66.2-py3-none-any.whl (78 kB)\n",
      "   ---------------------------------------- 0.0/78.3 kB ? eta -:--:--\n",
      "   ---------------------------------------- 78.3/78.3 kB 4.3 MB/s eta 0:00:00\n",
      "Downloading charset_normalizer-3.3.2-cp310-cp310-win_amd64.whl (100 kB)\n",
      "   ---------------------------------------- 0.0/100.3 kB ? eta -:--:--\n",
      "   ------------------------------------ --- 92.2/100.3 kB 2.6 MB/s eta 0:00:01\n",
      "   ---------------------------------------- 100.3/100.3 kB 1.9 MB/s eta 0:00:00\n",
      "Downloading idna-3.7-py3-none-any.whl (66 kB)\n",
      "   ---------------------------------------- 0.0/66.8 kB ? eta -:--:--\n",
      "   ---------------------------------------- 66.8/66.8 kB 3.5 MB/s eta 0:00:00\n",
      "Downloading text_unidecode-1.3-py2.py3-none-any.whl (78 kB)\n",
      "   ---------------------------------------- 0.0/78.2 kB ? eta -:--:--\n",
      "   ------------------------------------ --- 71.7/78.2 kB 3.8 MB/s eta 0:00:01\n",
      "   ---------------------------------------- 78.2/78.2 kB 2.2 MB/s eta 0:00:00\n",
      "Downloading webencodings-0.5.1-py2.py3-none-any.whl (11 kB)\n",
      "Building wheels for collected packages: kaggle\n",
      "  Building wheel for kaggle (pyproject.toml): started\n",
      "  Building wheel for kaggle (pyproject.toml): finished with status 'done'\n",
      "  Created wheel for kaggle: filename=kaggle-1.6.12-py3-none-any.whl size=102982 sha256=68f3948b7364f42c25bc4e37fb8762250406eb0b3c4a4cc68a296d336453a6de\n",
      "  Stored in directory: c:\\users\\harish\\appdata\\local\\pip\\cache\\wheels\\1e\\0b\\7c\\50f8e89c3d2f82838dbd7afeddffbb9357003009ada98216c7\n",
      "Successfully built kaggle\n",
      "Installing collected packages: webencodings, text-unidecode, urllib3, tqdm, python-slugify, idna, charset-normalizer, certifi, bleach, requests, kaggle\n",
      "Successfully installed bleach-6.1.0 certifi-2024.2.2 charset-normalizer-3.3.2 idna-3.7 kaggle-1.6.12 python-slugify-8.0.4 requests-2.31.0 text-unidecode-1.3 tqdm-4.66.2 urllib3-2.2.1 webencodings-0.5.1\n"
     ]
    }
   ],
   "source": [
    "#import libraries\n",
    "!pip install kaggle"
   ]
  },
  {
   "cell_type": "code",
   "execution_count": 3,
   "metadata": {},
   "outputs": [
    {
     "name": "stdout",
     "output_type": "stream",
     "text": [
      "Dataset URL: https://www.kaggle.com/datasets/ankitbansal06/retail-orders\n",
      "License(s): CC0-1.0\n",
      "Downloading orders.csv.zip to c:\\Users\\Harish\\Desktop\\DATAScience\\Data_Analytics_Folder\n",
      "\n"
     ]
    },
    {
     "name": "stderr",
     "output_type": "stream",
     "text": [
      "\n",
      "  0%|          | 0.00/200k [00:00<?, ?B/s]\n",
      "100%|██████████| 200k/200k [00:00<00:00, 280kB/s]\n",
      "100%|██████████| 200k/200k [00:00<00:00, 266kB/s]\n"
     ]
    }
   ],
   "source": [
    "import kaggle\n",
    "# Below command is used to download the dataset directly from kaggle API.\n",
    "!kaggle datasets download ankitbansal06/retail-orders -f orders.csv"
   ]
  },
  {
   "cell_type": "code",
   "execution_count": 4,
   "metadata": {},
   "outputs": [],
   "source": [
    "# Extract file from Zip file\n",
    "import zipfile\n",
    "zip_ref = zipfile.ZipFile('orders.csv.zip')\n",
    "zip_ref.extractall() # Extract file to dir\n",
    "zip_ref.close() # close file"
   ]
  },
  {
   "cell_type": "code",
   "execution_count": null,
   "metadata": {},
   "outputs": [],
   "source": [
    "# Read data from the file and handle null values.\n"
   ]
  }
 ],
 "metadata": {
  "kernelspec": {
   "display_name": "Python 3",
   "language": "python",
   "name": "python3"
  },
  "language_info": {
   "codemirror_mode": {
    "name": "ipython",
    "version": 3
   },
   "file_extension": ".py",
   "mimetype": "text/x-python",
   "name": "python",
   "nbconvert_exporter": "python",
   "pygments_lexer": "ipython3",
   "version": "3.10.3"
  }
 },
 "nbformat": 4,
 "nbformat_minor": 2
}
